{
 "cells": [
  {
   "cell_type": "code",
   "execution_count": 6,
   "metadata": {},
   "outputs": [
    {
     "name": "stderr",
     "output_type": "stream",
     "text": [
      "/tmp/ipykernel_39105/3545282475.py:2: FutureWarning: You are using `torch.load` with `weights_only=False` (the current default value), which uses the default pickle module implicitly. It is possible to construct malicious pickle data which will execute arbitrary code during unpickling (See https://github.com/pytorch/pytorch/blob/main/SECURITY.md#untrusted-models for more details). In a future release, the default value for `weights_only` will be flipped to `True`. This limits the functions that could be executed during unpickling. Arbitrary objects will no longer be allowed to be loaded via this mode unless they are explicitly allowlisted by the user via `torch.serialization.add_safe_globals`. We recommend you start setting `weights_only=True` for any use case where you don't have full control of the loaded file. Please open an issue on GitHub for any issues related to this experimental feature.\n",
      "  data = torch.load('brca1_embeddings.pth', map_location='cpu')\n"
     ]
    },
    {
     "data": {
      "text/plain": [
       "tensor([  54.7500, -118.5000,   -1.6172,  ..., -153.0000, -131.0000,\n",
       "         -30.5000], dtype=torch.bfloat16)"
      ]
     },
     "execution_count": 6,
     "metadata": {},
     "output_type": "execute_result"
    }
   ],
   "source": [
    "import torch\n",
    "data = torch.load('brca1_embeddings.pth', map_location='cpu')\n",
    "index_test = 3892\n",
    "data[index_test]"
   ]
  },
  {
   "cell_type": "code",
   "execution_count": 9,
   "metadata": {},
   "outputs": [],
   "source": [
    "import pandas as pd\n",
    "brca1 = pd.read_excel(\"41586_2018_461_MOESM3_ESM.xlsx\", header=2)\n",
    "brca1 = brca1[[\n",
    "    'chromosome', 'position (hg19)', 'reference', 'alt', 'function.score.mean', 'func.class',\n",
    "]]\n",
    "\n",
    "brca1.rename(columns={\n",
    "    'chromosome': 'chrom',\n",
    "    'position (hg19)': 'pos',\n",
    "    'reference': 'ref',\n",
    "    'alt': 'alt',\n",
    "    'function.score.mean': 'score',\n",
    "    'func.class': 'class',\n",
    "}, inplace=True)\n",
    " \n",
    "brca1['class'] = brca1['class'].replace(['FUNC', 'INT'], 'FUNC/INT')"
   ]
  },
  {
   "cell_type": "code",
   "execution_count": 12,
   "metadata": {},
   "outputs": [],
   "source": [
    "from Bio import SeqIO\n",
    "chr17 = str(next(SeqIO.parse(\"GRCh37.p13_chr17.fna\", \"fasta\")).seq)"
   ]
  },
  {
   "cell_type": "code",
   "execution_count": 13,
   "metadata": {},
   "outputs": [],
   "source": [
    "WINDOW_SIZE = 128\n",
    "complement_table = str.maketrans(\"ATCG\", \"TAGC\")\n",
    "def parse_sequences2(pos, ref, alt):\n",
    "    p = pos - 1 \n",
    "    full_seq = chr17\n",
    "\n",
    "    ref_seq_start = p - WINDOW_SIZE//2\n",
    "    ref_seq_end = p + WINDOW_SIZE//2\n",
    "    ref_seq = full_seq[ref_seq_start:ref_seq_end]\n",
    "    snv_pos_in_ref = min(WINDOW_SIZE//2, p)\n",
    "    var_seq = ref_seq[:snv_pos_in_ref] + alt + ref_seq[snv_pos_in_ref+1:]\n",
    "\n",
    "    ref_seq_rev_comp = ref_seq.translate(complement_table)[::-1]\n",
    "    var_seq_rev_comp = var_seq.translate(complement_table)[::-1]\n",
    "\n",
    "    assert len(var_seq) == len(ref_seq)\n",
    "    assert ref_seq[snv_pos_in_ref] == ref\n",
    "    assert var_seq[snv_pos_in_ref] == alt\n",
    "\n",
    "    return ref_seq, var_seq, ref_seq_rev_comp, var_seq_rev_comp"
   ]
  },
  {
   "cell_type": "code",
   "execution_count": 14,
   "metadata": {},
   "outputs": [
    {
     "name": "stdout",
     "output_type": "stream",
     "text": [
      "TGGGGTCCTGTGGCTCTGTACCTGTGGCTGGCTGCAGTCAGTAGTGGCTGTGGGGGATCTGGGGTATCAGGTAGGTGTCCAGCTCCTGGCACTGGTAGAGTGCTACACTGTCCAACACCCACTCTCGG\n",
      "TGGGGTCCTGTGGCTCTGTACCTGTGGCTGGCTGCAGTCAGTAGTGGCTGTGGGGGATCTGGGGAATCAGGTAGGTGTCCAGCTCCTGGCACTGGTAGAGTGCTACACTGTCCAACACCCACTCTCGG\n",
      "CCGAGAGTGGGTGTTGGACAGTGTAGCACTCTACCAGTGCCAGGAGCTGGACACCTACCTGATACCCCAGATCCCCCACAGCCACTACTGACTGCAGCCAGCCACAGGTACAGAGCCACAGGACCCCA\n",
      "CCGAGAGTGGGTGTTGGACAGTGTAGCACTCTACCAGTGCCAGGAGCTGGACACCTACCTGATTCCCCAGATCCCCCACAGCCACTACTGACTGCAGCCAGCCACAGGTACAGAGCCACAGGACCCCA\n"
     ]
    }
   ],
   "source": [
    "row = brca1.iloc[index_test]\n",
    "ref_seq, var_seq, ref_seq_rev_comp, var_seq_rev_comp = parse_sequences2(row['pos'], row['ref'], row['alt'])\n",
    "\n",
    "print(ref_seq)\n",
    "print(var_seq)\n",
    "print(ref_seq_rev_comp)\n",
    "print(var_seq_rev_comp)"
   ]
  },
  {
   "cell_type": "code",
   "execution_count": null,
   "metadata": {},
   "outputs": [],
   "source": [
    "\"\"\"\n",
    "layer_name = 'blocks.28.mlp.l3'\n",
    "sequences_list = [ref_seq, var_seq, ref_seq_rev_comp, var_seq_rev_comp]\n",
    "input_ids = torch.tensor(\n",
    "    [evo2_model.tokenizer.tokenize(s) for s in sequences_list],\n",
    "    dtype=torch.int,\n",
    ").to('cuda:0')\n",
    "\n",
    "\n",
    "_ , embeddings = evo2_model(input_ids, return_embeddings=True, layer_names=[layer_name])\n",
    "\"\"\""
   ]
  },
  {
   "cell_type": "code",
   "execution_count": 16,
   "metadata": {},
   "outputs": [
    {
     "name": "stdout",
     "output_type": "stream",
     "text": [
      "torch.Size([16384])\n"
     ]
    }
   ],
   "source": [
    "embedding = data[index_test]\n",
    "print(embedding.shape)"
   ]
  },
  {
   "cell_type": "code",
   "execution_count": 18,
   "metadata": {},
   "outputs": [
    {
     "name": "stdout",
     "output_type": "stream",
     "text": [
      "Prediction probability: 0.0047\n",
      "Predicted class: FUNC/INT\n",
      "Actual class: FUNC/INT\n",
      "Prediction correct: True\n"
     ]
    },
    {
     "name": "stderr",
     "output_type": "stream",
     "text": [
      "/tmp/ipykernel_39105/1958521554.py:37: FutureWarning: You are using `torch.load` with `weights_only=False` (the current default value), which uses the default pickle module implicitly. It is possible to construct malicious pickle data which will execute arbitrary code during unpickling (See https://github.com/pytorch/pytorch/blob/main/SECURITY.md#untrusted-models for more details). In a future release, the default value for `weights_only` will be flipped to `True`. This limits the functions that could be executed during unpickling. Arbitrary objects will no longer be allowed to be loaded via this mode unless they are explicitly allowlisted by the user via `torch.serialization.add_safe_globals`. We recommend you start setting `weights_only=True` for any use case where you don't have full control of the loaded file. Please open an issue on GitHub for any issues related to this experimental feature.\n",
      "  state_dict = torch.load('model_mlp.pth', map_location='cpu')\n"
     ]
    }
   ],
   "source": [
    "# Define the model architecture (same as in model1.ipynb)\n",
    "import torch.nn as nn\n",
    "\n",
    "class SNVClassifier(nn.Module):\n",
    "    def __init__(self, input_dim=16384):\n",
    "        super(SNVClassifier, self).__init__()\n",
    "        self.network = nn.Sequential(\n",
    "            # Capa 1\n",
    "            nn.Linear(input_dim, 512),\n",
    "            nn.ReLU(),\n",
    "            nn.BatchNorm1d(512),\n",
    "            nn.Dropout(0.3),\n",
    "\n",
    "            # Capa 2\n",
    "            nn.Linear(512, 128),\n",
    "            nn.ReLU(),\n",
    "            nn.BatchNorm1d(128),\n",
    "            nn.Dropout(0.3),\n",
    "\n",
    "            # Capa 3\n",
    "            nn.Linear(128, 32),\n",
    "            nn.ReLU(),\n",
    "            nn.BatchNorm1d(32),\n",
    "\n",
    "            # Capa de Salida\n",
    "            nn.Linear(32, 1),\n",
    "            nn.Sigmoid()\n",
    "        )\n",
    "\n",
    "    def forward(self, x):\n",
    "        return self.network(x)\n",
    "\n",
    "# Create model instance\n",
    "model = SNVClassifier(input_dim=16384)\n",
    "\n",
    "# Load the trained weights (state_dict)\n",
    "state_dict = torch.load('model_mlp.pth', map_location='cpu')\n",
    "model.load_state_dict(state_dict)\n",
    "model.eval()\n",
    "\n",
    "# Prepare input tensor - convert to float32 and add batch dimension\n",
    "input_tensor = embedding.to(torch.float32).unsqueeze(0)\n",
    "\n",
    "# Make prediction\n",
    "with torch.no_grad():\n",
    "    prediction = model(input_tensor)\n",
    "    probability = prediction.item()  # Sigmoid is already applied in the model\n",
    "\n",
    "print(f\"Prediction probability: {probability:.4f}\")\n",
    "print(f\"Predicted class: {'LOF' if probability > 0.5 else 'FUNC/INT'}\")\n",
    "\n",
    "# Get the actual class for comparison\n",
    "actual_class = brca1.iloc[index_test]['class']\n",
    "print(f\"Actual class: {actual_class}\")\n",
    "print(f\"Prediction correct: {('LOF' if probability > 0.5 else 'FUNC/INT') == actual_class}\")\n"
   ]
  },
  {
   "cell_type": "code",
   "execution_count": 21,
   "metadata": {},
   "outputs": [],
   "source": [
    "torch.save(embedding, 'sample_patient.pth')"
   ]
  }
 ],
 "metadata": {
  "kernelspec": {
   "display_name": "DPD",
   "language": "python",
   "name": "python3"
  },
  "language_info": {
   "codemirror_mode": {
    "name": "ipython",
    "version": 3
   },
   "file_extension": ".py",
   "mimetype": "text/x-python",
   "name": "python",
   "nbconvert_exporter": "python",
   "pygments_lexer": "ipython3",
   "version": "3.13.2"
  }
 },
 "nbformat": 4,
 "nbformat_minor": 2
}
